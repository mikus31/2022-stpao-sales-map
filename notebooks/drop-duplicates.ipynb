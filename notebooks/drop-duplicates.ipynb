{
 "cells": [
  {
   "cell_type": "code",
   "execution_count": 1,
   "metadata": {},
   "outputs": [
    {
     "name": "stdout",
     "output_type": "stream",
     "text": [
      "Duplicates removed and updated data saved to C:\\Users\\mmcneil\\Downloads\\GIS DUMP\\sales-layer\\data\\raw\\2022-res-qualified-land-sales-updated.csv\n"
     ]
    }
   ],
   "source": [
    "import pandas as pd\n",
    "\n",
    "# Define the file path\n",
    "file_path = r\"C:\\Users\\mmcneil\\Downloads\\GIS DUMP\\sales-layer\\data\\raw\\2022-res-qualified-land-sales.csv\"\n",
    "\n",
    "# Read the CSV file into a pandas DataFrame\n",
    "data = pd.read_csv(file_path)\n",
    "\n",
    "# Drop duplicates based on the 'REID' column and keep the first occurrence\n",
    "data.drop_duplicates(subset='REID', keep='first', inplace=True)\n",
    "\n",
    "# Define the new file path to save the updated data\n",
    "new_file_path = r\"C:\\Users\\mmcneil\\Downloads\\GIS DUMP\\sales-layer\\data\\raw\\2022-res-qualified-land-sales-updated.csv\"\n",
    "\n",
    "# Save the updated data to a new CSV file\n",
    "data.to_csv(new_file_path, index=False)\n",
    "\n",
    "print(\"Duplicates removed and updated data saved to\", new_file_path)"
   ]
  },
  {
   "cell_type": "code",
   "execution_count": null,
   "metadata": {},
   "outputs": [],
   "source": []
  }
 ],
 "metadata": {
  "kernelspec": {
   "display_name": "Python 3",
   "language": "python",
   "name": "python3"
  },
  "language_info": {
   "codemirror_mode": {
    "name": "ipython",
    "version": 3
   },
   "file_extension": ".py",
   "mimetype": "text/x-python",
   "name": "python",
   "nbconvert_exporter": "python",
   "pygments_lexer": "ipython3",
   "version": "3.7.3"
  }
 },
 "nbformat": 4,
 "nbformat_minor": 2
}
